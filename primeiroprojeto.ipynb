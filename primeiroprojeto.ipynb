{
 "cells": [
  {
   "cell_type": "code",
   "execution_count": 1,
   "metadata": {},
   "outputs": [
    {
     "name": "stdout",
     "output_type": "stream",
     "text": [
      "Meu nome é Marcia e estou gostando muito de python!\n"
     ]
    }
   ],
   "source": [
    "#descobrindo\n",
    "print(\"Meu nome é Marcia e estou gostando muito de python!\")"
   ]
  },
  {
   "cell_type": "code",
   "execution_count": 2,
   "metadata": {},
   "outputs": [
    {
     "name": "stdout",
     "output_type": "stream",
     "text": [
      "Olá, Marcia! Bem-vindo ao mundo da programação em Python.\n"
     ]
    }
   ],
   "source": [
    "# Solicita ao usuário para inserir seu nome\n",
    "nome = input(\"Digite seu nome: \")\n",
    "\n",
    "# Exibe uma mensagem de saudação personalizada\n",
    "print(f\"Olá, {nome}! Bem-vindo ao mundo da programação em Python.\")\n"
   ]
  },
  {
   "cell_type": "code",
   "execution_count": 4,
   "metadata": {},
   "outputs": [
    {
     "name": "stdout",
     "output_type": "stream",
     "text": [
      "A média dos números é: 4.666666666666667\n"
     ]
    }
   ],
   "source": [
    "# Solicita ao usuário para inserir três números\n",
    "numero1 = float(input(\"Digite o primeiro número: \"))\n",
    "numero2 = float(input(\"Digite o segundo número: \"))\n",
    "numero3 = float(input(\"Digite o terceiro número: \"))\n",
    "\n",
    "# Calcula a média dos números\n",
    "media = (numero1 + numero2 + numero3) / 3\n",
    "\n",
    "# Exibe a média\n",
    "print(f\"A média dos números é: {media}\")\n"
   ]
  },
  {
   "cell_type": "code",
   "execution_count": 3,
   "metadata": {},
   "outputs": [
    {
     "name": "stdout",
     "output_type": "stream",
     "text": [
      "Para 20.0°C, o ponto de cozimento é: Muito Raro (Selado)\n"
     ]
    }
   ],
   "source": [
    "#Ponto da carne\n",
    "def ponto_de_cozimento(temperatura):\n",
    "    if temperatura < 120:\n",
    "        return \"Muito Raro (Selado)\"\n",
    "    elif 120 <= temperatura < 130:\n",
    "        return \"Rare (Ao Ponto para o Natural)\"\n",
    "    elif 130 <= temperatura < 140:\n",
    "        return \"Medium Rare (Ao Ponto)\"\n",
    "    elif 140 <= temperatura < 150:\n",
    "        return \"Medium Well (Ao Ponto para o Bem)\"\n",
    "    elif temperatura >= 150:\n",
    "        return \"Well Done (Bem Passada)\"\n",
    "    else:\n",
    "        return \"Temperatura inválida\"\n",
    "\n",
    "temperatura = float(input(\"Digite a temperatura em graus Celsius: \"))\n",
    "ponto = ponto_de_cozimento(temperatura)\n",
    "print(f\"Para {temperatura}°C, o ponto de cozimento é: {ponto}\")"
   ]
  }
 ],
 "metadata": {
  "kernelspec": {
   "display_name": "Python 3",
   "language": "python",
   "name": "python3"
  },
  "language_info": {
   "codemirror_mode": {
    "name": "ipython",
    "version": 3
   },
   "file_extension": ".py",
   "mimetype": "text/x-python",
   "name": "python",
   "nbconvert_exporter": "python",
   "pygments_lexer": "ipython3",
   "version": "3.11.5"
  },
  "orig_nbformat": 4
 },
 "nbformat": 4,
 "nbformat_minor": 2
}
